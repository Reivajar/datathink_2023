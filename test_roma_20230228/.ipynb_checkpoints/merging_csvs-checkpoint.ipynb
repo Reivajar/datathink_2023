{
 "cells": [
  {
   "cell_type": "markdown",
   "id": "46fe15c7-a6b6-4fff-84c1-6e2e5317524d",
   "metadata": {},
   "source": [
    "# Datathink 2023\n",
    "Roma 2023. Biblioteca Hertziana + DSV@UZH + Max Planck Society\n",
    "# Sensing data fusion\n",
    "Javier Argota Sánchez-Vaquerizo\n",
    "\n",
    "*Computational Social Science* | **ETHZ Zürich**\n",
    "javier.argota@gess.ethz.ch\n",
    "\n",
    "This notebook consolidates all the merged csv from the different pairs of sensors+GPS:"
   ]
  },
  {
   "cell_type": "code",
   "execution_count": 31,
   "id": "e3f44831-51df-45b8-883c-2afe996ced0a",
   "metadata": {
    "tags": []
   },
   "outputs": [],
   "source": [
    "import pandas as pd\n",
    "import os"
   ]
  },
  {
   "cell_type": "code",
   "execution_count": 34,
   "id": "b797a6cf-f492-490e-84c6-52a3fa271103",
   "metadata": {
    "tags": []
   },
   "outputs": [
    {
     "data": {
      "text/plain": [
       "[PosixPath('/mnt/c/Users/jaargota/Documents/202302-Spring 2023/20230227-Datathink_Rome/repo/datathink_2023/test_roma_20230228/sensor_06/20230228_ROMA_test_v4_merged_sensor_06.csv'),\n",
       " PosixPath('/mnt/c/Users/jaargota/Documents/202302-Spring 2023/20230227-Datathink_Rome/repo/datathink_2023/test_roma_20230228/sensor_08/20230228_ROMA_test_v4_merged_sensor_08.csv'),\n",
       " PosixPath('/mnt/c/Users/jaargota/Documents/202302-Spring 2023/20230227-Datathink_Rome/repo/datathink_2023/test_roma_20230228/sensor_09/20230228_ROMA_test_v4_merged_sensor_09.csv'),\n",
       " PosixPath('/mnt/c/Users/jaargota/Documents/202302-Spring 2023/20230227-Datathink_Rome/repo/datathink_2023/test_roma_20230228/sensor_12/20230228_ROMA_test_v4_merged_sensor_12.csv'),\n",
       " PosixPath('/mnt/c/Users/jaargota/Documents/202302-Spring 2023/20230227-Datathink_Rome/repo/datathink_2023/test_roma_20230228/sensor_GQ/20230228_ROMA_test_v4_merged_sensor_GQ.csv')]"
      ]
     },
     "execution_count": 34,
     "metadata": {},
     "output_type": "execute_result"
    }
   ],
   "source": [
    "# csv_files = []\n",
    "rootdir = os.getcwd()\n",
    "# for root, subdirs, files in os.walk(rootdir):\n",
    "#     if files.startswith(\"20230228_ROMA_test_v4_merged\"):\n",
    "#         csv_files.append(os.path.join(folder, file))\n",
    "# print(sorted(csv_files))\n",
    "\n",
    "# df_gas = pd.DataFrame()\n",
    "# for file in air_q_files:\n",
    "#     df_gas_temp = pd.read_csv(file, sep=\",\", index_col=\"Date/Time\")\n",
    "#     df_gas = pd.concat([df_gas, df_gas_temp])\n",
    "# # df_gas\n",
    "from pathlib import Path\n",
    "result = list(Path(rootdir).rglob(\"20230228_ROMA_test_v4_merged*.[cC][sS][vV]\"))\n",
    "result"
   ]
  },
  {
   "cell_type": "code",
   "execution_count": 36,
   "id": "e5bf7a32-72dd-4874-be00-1103c2782274",
   "metadata": {
    "tags": []
   },
   "outputs": [
    {
     "data": {
      "text/html": [
       "<div>\n",
       "<style scoped>\n",
       "    .dataframe tbody tr th:only-of-type {\n",
       "        vertical-align: middle;\n",
       "    }\n",
       "\n",
       "    .dataframe tbody tr th {\n",
       "        vertical-align: top;\n",
       "    }\n",
       "\n",
       "    .dataframe thead th {\n",
       "        text-align: right;\n",
       "    }\n",
       "</style>\n",
       "<table border=\"1\" class=\"dataframe\">\n",
       "  <thead>\n",
       "    <tr style=\"text-align: right;\">\n",
       "      <th></th>\n",
       "      <th>time_CET</th>\n",
       "      <th>latitude (°)</th>\n",
       "      <th>longitude (°)</th>\n",
       "      <th>distance (km)</th>\n",
       "      <th>compass (°)</th>\n",
       "      <th>duration (s)</th>\n",
       "      <th>velocity (km/h)</th>\n",
       "      <th>elevation (m)</th>\n",
       "      <th>Temperature (C)</th>\n",
       "      <th>Humidity (%)</th>\n",
       "      <th>PM1 (ug/m3)</th>\n",
       "      <th>PM2.5 (ug/m3)</th>\n",
       "      <th>PM10 (ug/m3)</th>\n",
       "      <th>Date and Time</th>\n",
       "      <th>EMF(mG)</th>\n",
       "      <th>EF(V/m)</th>\n",
       "      <th>RF Power Density(mW/m2)</th>\n",
       "      <th>RF Power Density(mW/cm2)</th>\n",
       "      <th>RF Power Density(pW/cm2)</th>\n",
       "      <th>Possible Source</th>\n",
       "    </tr>\n",
       "  </thead>\n",
       "  <tbody>\n",
       "    <tr>\n",
       "      <th>0</th>\n",
       "      <td>2023-02-28 09:52:18</td>\n",
       "      <td>41.905850</td>\n",
       "      <td>12.482420</td>\n",
       "      <td>0.000000</td>\n",
       "      <td>266.878238</td>\n",
       "      <td>0.0</td>\n",
       "      <td>8.1072</td>\n",
       "      <td>82.79</td>\n",
       "      <td>14.608364</td>\n",
       "      <td>43.201899</td>\n",
       "      <td>4.162991</td>\n",
       "      <td>5.980621</td>\n",
       "      <td>7.580653</td>\n",
       "      <td>NaN</td>\n",
       "      <td>NaN</td>\n",
       "      <td>NaN</td>\n",
       "      <td>NaN</td>\n",
       "      <td>NaN</td>\n",
       "      <td>NaN</td>\n",
       "      <td>NaN</td>\n",
       "    </tr>\n",
       "    <tr>\n",
       "      <th>1</th>\n",
       "      <td>2023-02-28 09:52:19</td>\n",
       "      <td>41.905849</td>\n",
       "      <td>12.482393</td>\n",
       "      <td>0.002252</td>\n",
       "      <td>270.127204</td>\n",
       "      <td>1.0</td>\n",
       "      <td>6.4044</td>\n",
       "      <td>76.44</td>\n",
       "      <td>14.608278</td>\n",
       "      <td>43.201917</td>\n",
       "      <td>4.163031</td>\n",
       "      <td>5.980645</td>\n",
       "      <td>7.580652</td>\n",
       "      <td>NaN</td>\n",
       "      <td>NaN</td>\n",
       "      <td>NaN</td>\n",
       "      <td>NaN</td>\n",
       "      <td>NaN</td>\n",
       "      <td>NaN</td>\n",
       "      <td>NaN</td>\n",
       "    </tr>\n",
       "  </tbody>\n",
       "</table>\n",
       "</div>"
      ],
      "text/plain": [
       "              time_CET  latitude (°)  longitude (°)  distance (km)  \\\n",
       "0  2023-02-28 09:52:18     41.905850      12.482420       0.000000   \n",
       "1  2023-02-28 09:52:19     41.905849      12.482393       0.002252   \n",
       "\n",
       "   compass (°)  duration (s)  velocity (km/h)  elevation (m)  Temperature (C)  \\\n",
       "0   266.878238           0.0           8.1072          82.79        14.608364   \n",
       "1   270.127204           1.0           6.4044          76.44        14.608278   \n",
       "\n",
       "   Humidity (%)  PM1 (ug/m3)  PM2.5 (ug/m3)  PM10 (ug/m3) Date and Time  \\\n",
       "0     43.201899     4.162991       5.980621      7.580653           NaN   \n",
       "1     43.201917     4.163031       5.980645      7.580652           NaN   \n",
       "\n",
       "   EMF(mG)  EF(V/m)  RF Power Density(mW/m2)  RF Power Density(mW/cm2)  \\\n",
       "0      NaN      NaN                      NaN                       NaN   \n",
       "1      NaN      NaN                      NaN                       NaN   \n",
       "\n",
       "   RF Power Density(pW/cm2)  Possible Source  \n",
       "0                       NaN              NaN  \n",
       "1                       NaN              NaN  "
      ]
     },
     "execution_count": 36,
     "metadata": {},
     "output_type": "execute_result"
    }
   ],
   "source": [
    "df_single = pd.DataFrame()\n",
    "for file in result:\n",
    "    df_single_temp = pd.read_csv(file, sep=\",\")\n",
    "    # display(df_single_temp.head(2))\n",
    "    df_single = pd.concat([df_single, df_single_temp])\n",
    "df_single.head(2)"
   ]
  },
  {
   "cell_type": "code",
   "execution_count": 37,
   "id": "e6647c6d-1651-41b0-9cd5-8407c1c9e36a",
   "metadata": {
    "tags": []
   },
   "outputs": [],
   "source": [
    "df_single.to_csv(\"single.csv\", sep=\",\")"
   ]
  },
  {
   "cell_type": "code",
   "execution_count": null,
   "id": "5a7f271e-6e9c-4fac-80d2-199a4c18167f",
   "metadata": {},
   "outputs": [],
   "source": []
  }
 ],
 "metadata": {
  "kernelspec": {
   "display_name": "Python 3 (ipykernel)",
   "language": "python",
   "name": "python3"
  },
  "language_info": {
   "codemirror_mode": {
    "name": "ipython",
    "version": 3
   },
   "file_extension": ".py",
   "mimetype": "text/x-python",
   "name": "python",
   "nbconvert_exporter": "python",
   "pygments_lexer": "ipython3",
   "version": "3.10.8"
  }
 },
 "nbformat": 4,
 "nbformat_minor": 5
}
